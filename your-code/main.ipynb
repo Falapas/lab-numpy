{
 "cells": [
  {
   "cell_type": "markdown",
   "metadata": {},
   "source": [
    "# Intrduction to NumPy\n",
    "\n",
    "\n",
    "#### 1. Import NumPy under the name np."
   ]
  },
  {
   "cell_type": "code",
   "execution_count": 93,
   "metadata": {},
   "outputs": [],
   "source": [
    "# your code here\n",
    "import numpy as np"
   ]
  },
  {
   "cell_type": "markdown",
   "metadata": {},
   "source": [
    "#### 2. Print your NumPy version."
   ]
  },
  {
   "cell_type": "code",
   "execution_count": 94,
   "metadata": {},
   "outputs": [
    {
     "name": "stdout",
     "output_type": "stream",
     "text": [
      "1.18.5\n"
     ]
    }
   ],
   "source": [
    "# your code here\n",
    "print(np.__version__)"
   ]
  },
  {
   "cell_type": "markdown",
   "metadata": {},
   "source": [
    "#### 3. Generate a 2x3x5 3-dimensional array with random values. Assign the array to variable *a*.\n",
    "**Challenge**: there are at least three easy ways that use numpy to generate random arrays. How many ways can you find?"
   ]
  },
  {
   "cell_type": "code",
   "execution_count": 95,
   "metadata": {},
   "outputs": [
    {
     "data": {
      "text/plain": [
       "array([[[0.00698894, 0.0723351 , 0.51694169, 0.93115855, 0.76534616],\n",
       "        [0.73529063, 0.22790399, 0.37438297, 0.27864282, 0.71474998],\n",
       "        [0.33332167, 0.07054892, 0.23785229, 0.54560333, 0.68991255]],\n",
       "\n",
       "       [[0.67882238, 0.38458908, 0.29634586, 0.38310368, 0.79049134],\n",
       "        [0.65052549, 0.66880893, 0.2737509 , 0.65727091, 0.6740136 ],\n",
       "        [0.83128131, 0.53553652, 0.46245451, 0.26061569, 0.80669317]]])"
      ]
     },
     "execution_count": 95,
     "metadata": {},
     "output_type": "execute_result"
    }
   ],
   "source": [
    "# Method 1\n",
    "a = np.random.random((2,3,5))\n",
    "a"
   ]
  },
  {
   "cell_type": "code",
   "execution_count": 96,
   "metadata": {},
   "outputs": [
    {
     "name": "stdout",
     "output_type": "stream",
     "text": [
      "[[[ 0.33824617  0.44874312  1.07625215 -1.65201807  0.06506553]\n",
      "  [ 0.86291389 -0.12259409 -0.19697698 -0.45108065  0.30405157]\n",
      "  [-2.5190931   1.21992846 -0.79181571  1.00361081 -0.1907133 ]]\n",
      "\n",
      " [[-0.42780956 -1.95742349 -0.23168693  0.55980846  1.38089517]\n",
      "  [-1.52863736 -1.15056895 -0.5195365   0.97801299 -0.5066386 ]\n",
      "  [-0.93693479  0.06529176  0.14598692 -0.36653946  0.18140735]]]\n"
     ]
    }
   ],
   "source": [
    "# Method 2\n",
    "method_2 = np.random.randn(2,3,5)\n",
    "print(method_2)"
   ]
  },
  {
   "cell_type": "code",
   "execution_count": 97,
   "metadata": {},
   "outputs": [
    {
     "name": "stdout",
     "output_type": "stream",
     "text": [
      "[[[14 43  0 19 20]\n",
      "  [ 4 44  2 70 33]\n",
      "  [33 62 45 58 66]]\n",
      "\n",
      " [[37  4 25 81 37]\n",
      "  [44 56 36 71 66]\n",
      "  [23 59 46 25 42]]]\n"
     ]
    }
   ],
   "source": [
    "# Method 3\n",
    "method_3 = np.random.randint(100, size=(2,3,5))\n",
    "print(method_3)"
   ]
  },
  {
   "cell_type": "markdown",
   "metadata": {},
   "source": [
    "#### 4. Print *a*.\n"
   ]
  },
  {
   "cell_type": "code",
   "execution_count": 98,
   "metadata": {},
   "outputs": [
    {
     "name": "stdout",
     "output_type": "stream",
     "text": [
      "[[[0.00698894 0.0723351  0.51694169 0.93115855 0.76534616]\n",
      "  [0.73529063 0.22790399 0.37438297 0.27864282 0.71474998]\n",
      "  [0.33332167 0.07054892 0.23785229 0.54560333 0.68991255]]\n",
      "\n",
      " [[0.67882238 0.38458908 0.29634586 0.38310368 0.79049134]\n",
      "  [0.65052549 0.66880893 0.2737509  0.65727091 0.6740136 ]\n",
      "  [0.83128131 0.53553652 0.46245451 0.26061569 0.80669317]]]\n"
     ]
    }
   ],
   "source": [
    "# your code here\n",
    "print(a)"
   ]
  },
  {
   "cell_type": "markdown",
   "metadata": {},
   "source": [
    "#### 5. Create a 5x2x3 3-dimensional array with all values equaling 1. Assign the array to variable *b*."
   ]
  },
  {
   "cell_type": "code",
   "execution_count": 99,
   "metadata": {},
   "outputs": [],
   "source": [
    "# your code here\n",
    "b = np.ones((5,2,3),dtype = int)"
   ]
  },
  {
   "cell_type": "markdown",
   "metadata": {},
   "source": [
    "#### 6. Print *b*.\n"
   ]
  },
  {
   "cell_type": "code",
   "execution_count": 100,
   "metadata": {},
   "outputs": [
    {
     "name": "stdout",
     "output_type": "stream",
     "text": [
      "[[[1 1 1]\n",
      "  [1 1 1]]\n",
      "\n",
      " [[1 1 1]\n",
      "  [1 1 1]]\n",
      "\n",
      " [[1 1 1]\n",
      "  [1 1 1]]\n",
      "\n",
      " [[1 1 1]\n",
      "  [1 1 1]]\n",
      "\n",
      " [[1 1 1]\n",
      "  [1 1 1]]]\n"
     ]
    }
   ],
   "source": [
    "# your code here\n",
    "print(b)"
   ]
  },
  {
   "cell_type": "markdown",
   "metadata": {},
   "source": [
    "#### 7. Do *a* and *b* have the same size? How do you prove that in Python code?"
   ]
  },
  {
   "cell_type": "code",
   "execution_count": 101,
   "metadata": {},
   "outputs": [
    {
     "name": "stdout",
     "output_type": "stream",
     "text": [
      "30\n",
      "30\n"
     ]
    },
    {
     "data": {
      "text/plain": [
       "True"
      ]
     },
     "execution_count": 101,
     "metadata": {},
     "output_type": "execute_result"
    }
   ],
   "source": [
    "# your code here\n",
    "\n",
    "# Yes both have the same size:\n",
    "print(a.size)\n",
    "\n",
    "print(b.size)\n",
    "\n",
    "a.size==b.size"
   ]
  },
  {
   "cell_type": "markdown",
   "metadata": {},
   "source": [
    "#### 8. Are you able to add *a* and *b*? Why or why not?\n"
   ]
  },
  {
   "cell_type": "code",
   "execution_count": 102,
   "metadata": {},
   "outputs": [
    {
     "ename": "ValueError",
     "evalue": "operands could not be broadcast together with shapes (2,3,5) (5,2,3) ",
     "output_type": "error",
     "traceback": [
      "\u001b[1;31m---------------------------------------------------------------------------\u001b[0m",
      "\u001b[1;31mValueError\u001b[0m                                Traceback (most recent call last)",
      "\u001b[1;32m<ipython-input-102-5ea7129115cd>\u001b[0m in \u001b[0;36m<module>\u001b[1;34m\u001b[0m\n\u001b[0;32m      1\u001b[0m \u001b[1;31m# your answer here\u001b[0m\u001b[1;33m\u001b[0m\u001b[1;33m\u001b[0m\u001b[1;33m\u001b[0m\u001b[0m\n\u001b[0;32m      2\u001b[0m \u001b[1;31m# It's not possible to add a to b, because they have diferent structures.\u001b[0m\u001b[1;33m\u001b[0m\u001b[1;33m\u001b[0m\u001b[1;33m\u001b[0m\u001b[0m\n\u001b[1;32m----> 3\u001b[1;33m \u001b[0mnp\u001b[0m\u001b[1;33m.\u001b[0m\u001b[0madd\u001b[0m\u001b[1;33m(\u001b[0m\u001b[0ma\u001b[0m\u001b[1;33m,\u001b[0m \u001b[0mb\u001b[0m\u001b[1;33m)\u001b[0m\u001b[1;33m\u001b[0m\u001b[1;33m\u001b[0m\u001b[0m\n\u001b[0m",
      "\u001b[1;31mValueError\u001b[0m: operands could not be broadcast together with shapes (2,3,5) (5,2,3) "
     ]
    }
   ],
   "source": [
    "# your answer here\n",
    "# It's not possible to add a to b, because they have diferent structures.\n",
    "np.add(a, b)"
   ]
  },
  {
   "cell_type": "markdown",
   "metadata": {},
   "source": [
    "#### 9. Transpose *b* so that it has the same structure of *a* (i.e. become a 2x3x5 array). Assign the transposed array to variable *c*."
   ]
  },
  {
   "cell_type": "code",
   "execution_count": 103,
   "metadata": {},
   "outputs": [
    {
     "name": "stdout",
     "output_type": "stream",
     "text": [
      "(2, 3, 5)\n"
     ]
    }
   ],
   "source": [
    "# your code here\n",
    "c = np.transpose(b, axes=(1,2,0))\n",
    "print(np.shape(c))"
   ]
  },
  {
   "cell_type": "markdown",
   "metadata": {},
   "source": [
    "#### 10. Try to add *a* and *c*. Now it should work. Assign the sum to variable *d*. But why does it work now?"
   ]
  },
  {
   "cell_type": "code",
   "execution_count": 104,
   "metadata": {},
   "outputs": [
    {
     "name": "stdout",
     "output_type": "stream",
     "text": [
      "[[[1.00698894 1.0723351  1.51694169 1.93115855 1.76534616]\n",
      "  [1.73529063 1.22790399 1.37438297 1.27864282 1.71474998]\n",
      "  [1.33332167 1.07054892 1.23785229 1.54560333 1.68991255]]\n",
      "\n",
      " [[1.67882238 1.38458908 1.29634586 1.38310368 1.79049134]\n",
      "  [1.65052549 1.66880893 1.2737509  1.65727091 1.6740136 ]\n",
      "  [1.83128131 1.53553652 1.46245451 1.26061569 1.80669317]]]\n"
     ]
    }
   ],
   "source": [
    "# your code/answer here\n",
    "d = np.add(a, c)\n",
    "print(d)"
   ]
  },
  {
   "cell_type": "markdown",
   "metadata": {},
   "source": [
    "#### 11. Print *a* and *d*. Notice the difference and relation of the two array in terms of the values? Explain."
   ]
  },
  {
   "cell_type": "code",
   "execution_count": 105,
   "metadata": {},
   "outputs": [
    {
     "name": "stdout",
     "output_type": "stream",
     "text": [
      "[[[0.00698894 0.0723351  0.51694169 0.93115855 0.76534616]\n",
      "  [0.73529063 0.22790399 0.37438297 0.27864282 0.71474998]\n",
      "  [0.33332167 0.07054892 0.23785229 0.54560333 0.68991255]]\n",
      "\n",
      " [[0.67882238 0.38458908 0.29634586 0.38310368 0.79049134]\n",
      "  [0.65052549 0.66880893 0.2737509  0.65727091 0.6740136 ]\n",
      "  [0.83128131 0.53553652 0.46245451 0.26061569 0.80669317]]]\n",
      "[[[1.00698894 1.0723351  1.51694169 1.93115855 1.76534616]\n",
      "  [1.73529063 1.22790399 1.37438297 1.27864282 1.71474998]\n",
      "  [1.33332167 1.07054892 1.23785229 1.54560333 1.68991255]]\n",
      "\n",
      " [[1.67882238 1.38458908 1.29634586 1.38310368 1.79049134]\n",
      "  [1.65052549 1.66880893 1.2737509  1.65727091 1.6740136 ]\n",
      "  [1.83128131 1.53553652 1.46245451 1.26061569 1.80669317]]]\n"
     ]
    }
   ],
   "source": [
    "# your code/answer here\n",
    "print(a)\n",
    "print(d)\n",
    "# The d array as different values from the array a, because we added the values from the array c, to the array a;\n",
    "# Since all the values from the array c are equal to \"1\", the values of the array d, will be the same as the vallues in the array a, plus \"1\"."
   ]
  },
  {
   "cell_type": "markdown",
   "metadata": {},
   "source": [
    "#### 12. Multiply *a* and *c*. Assign the result to *e*."
   ]
  },
  {
   "cell_type": "code",
   "execution_count": 106,
   "metadata": {},
   "outputs": [
    {
     "name": "stdout",
     "output_type": "stream",
     "text": [
      "[[[0.00698894 0.0723351  0.51694169 0.93115855 0.76534616]\n",
      "  [0.73529063 0.22790399 0.37438297 0.27864282 0.71474998]\n",
      "  [0.33332167 0.07054892 0.23785229 0.54560333 0.68991255]]\n",
      "\n",
      " [[0.67882238 0.38458908 0.29634586 0.38310368 0.79049134]\n",
      "  [0.65052549 0.66880893 0.2737509  0.65727091 0.6740136 ]\n",
      "  [0.83128131 0.53553652 0.46245451 0.26061569 0.80669317]]]\n"
     ]
    }
   ],
   "source": [
    "# your code here\n",
    "e = np.multiply(a, c)\n",
    "print(e)"
   ]
  },
  {
   "cell_type": "markdown",
   "metadata": {},
   "source": [
    "#### 13. Does *e* equal to *a*? Why or why not?\n"
   ]
  },
  {
   "cell_type": "code",
   "execution_count": 119,
   "metadata": {},
   "outputs": [
    {
     "data": {
      "text/plain": [
       "array([[[ True,  True,  True,  True,  True],\n",
       "        [ True,  True,  True,  True,  True],\n",
       "        [ True,  True,  True,  True,  True]],\n",
       "\n",
       "       [[ True,  True,  True,  True,  True],\n",
       "        [ True,  True,  True,  True,  True],\n",
       "        [ True,  True,  True,  True,  True]]])"
      ]
     },
     "execution_count": 119,
     "metadata": {},
     "output_type": "execute_result"
    }
   ],
   "source": [
    "# your code/answer here\n",
    "e == a\n",
    "# Yes, both e and a are equal arrays, because the array e is the multiplication of 2 diferent arrays, but because we multiplied all the values by \"1\", the resulting values will be the same as the ones in the array a."
   ]
  },
  {
   "cell_type": "markdown",
   "metadata": {},
   "source": [
    "#### 14. Identify the max, min, and mean values in *d*. Assign those values to variables *d_max*, *d_min* and *d_mean*."
   ]
  },
  {
   "cell_type": "code",
   "execution_count": 126,
   "metadata": {},
   "outputs": [],
   "source": [
    "# your code here\n",
    "d_max = d.max()\n",
    "d_min = d.min()\n",
    "d_mean = d.mean()"
   ]
  },
  {
   "cell_type": "markdown",
   "metadata": {},
   "source": [
    "#### 15. Now we want to label the values in *d*. First create an empty array *f* with the same shape (i.e. 2x3x5) as *d* using `np.empty`.\n"
   ]
  },
  {
   "cell_type": "code",
   "execution_count": 127,
   "metadata": {},
   "outputs": [
    {
     "name": "stdout",
     "output_type": "stream",
     "text": [
      "[[[1.02491594 1.67835496 1.12092277 1.97794805 1.96047507]\n",
      "  [1.45516114 1.93627947 1.6578976  1.63233811 1.13564964]\n",
      "  [1.73077367 1.48849511 1.6461418  1.18981091 1.08263984]]\n",
      "\n",
      " [[1.32965364 1.36778308 1.01788468 1.99212425 1.10283942]\n",
      "  [1.02828301 1.08430634 1.52573107 1.20680023 1.10120868]\n",
      "  [1.09000378 1.40244699 1.80632115 1.73775253 1.5891521 ]]]\n"
     ]
    }
   ],
   "source": [
    "# your code here\n",
    "f = np.empty((2, 3, 5))\n",
    "print(f)"
   ]
  },
  {
   "cell_type": "markdown",
   "metadata": {},
   "source": [
    "#### 16. Populate the values in *f*. \n",
    "\n",
    "For each value in *d*, if it's larger than *d_min* but smaller than *d_mean*, assign 25 to the corresponding value in *f*. If a value in *d* is larger than *d_mean* but smaller than *d_max*, assign 75 to the corresponding value in *f*. If a value equals to *d_mean*, assign 50 to the corresponding value in *f*. Assign 0 to the corresponding value(s) in *f* for *d_min* in *d*. Assign 100 to the corresponding value(s) in *f* for *d_max* in *d*. In the end, f should have only the following values: 0, 25, 50, 75, and 100.\n",
    "\n",
    "**Note**: you don't have to use Numpy in this question."
   ]
  },
  {
   "cell_type": "code",
   "execution_count": 150,
   "metadata": {},
   "outputs": [],
   "source": [
    "# your code here\n",
    "\n",
    "values = []\n",
    "    \n",
    "for element in d.flatten():\n",
    "    \n",
    "        if element > d_min and element < d_mean:\n",
    "            values.append(25)\n",
    "            \n",
    "        elif element > d_mean and element < d_max:\n",
    "            values.append(75)\n",
    "            \n",
    "        elif element == d_mean:\n",
    "            values.append(50)\n",
    "            \n",
    "        elif d_min:\n",
    "            values.append(0)\n",
    "            \n",
    "        elif d_max:\n",
    "            values.append(100)\n",
    "\n",
    "f = np.array(values)\n",
    "    \n",
    "f = f.reshape(2,3,5)"
   ]
  },
  {
   "cell_type": "markdown",
   "metadata": {},
   "source": [
    "#### 17. Print *d* and *f*. Do you have your expected *f*?\n",
    "For instance, if your *d* is:\n",
    "```python\n",
    "[[[1.85836099, 1.67064465, 1.62576044, 1.40243961, 1.88454931],\n",
    "[1.75354326, 1.69403643, 1.36729252, 1.61415071, 1.12104981],\n",
    "[1.72201435, 1.1862918 , 1.87078449, 1.7726778 , 1.88180042]],\n",
    "[[1.44747908, 1.31673383, 1.02000951, 1.52218947, 1.97066381],\n",
    "[1.79129243, 1.74983003, 1.96028037, 1.85166831, 1.65450881],\n",
    "[1.18068344, 1.9587381 , 1.00656599, 1.93402165, 1.73514584]]]\n",
    "```\n",
    "Your *f* should be:\n",
    "```python\n",
    "[[[ 75.,  75.,  75.,  25.,  75.],\n",
    "[ 75.,  75.,  25.,  25.,  25.],\n",
    "[ 75.,  25.,  75.,  75.,  75.]],\n",
    "[[ 25.,  25.,  25.,  25., 100.],\n",
    "[ 75.,  75.,  75.,  75.,  75.],\n",
    "[ 25.,  75.,   0.,  75.,  75.]]]\n",
    "```"
   ]
  },
  {
   "cell_type": "code",
   "execution_count": 149,
   "metadata": {},
   "outputs": [
    {
     "name": "stdout",
     "output_type": "stream",
     "text": [
      "[[[1.00698894 1.0723351  1.51694169 1.93115855 1.76534616]\n",
      "  [1.73529063 1.22790399 1.37438297 1.27864282 1.71474998]\n",
      "  [1.33332167 1.07054892 1.23785229 1.54560333 1.68991255]]\n",
      "\n",
      " [[1.67882238 1.38458908 1.29634586 1.38310368 1.79049134]\n",
      "  [1.65052549 1.66880893 1.2737509  1.65727091 1.6740136 ]\n",
      "  [1.83128131 1.53553652 1.46245451 1.26061569 1.80669317]]]\n",
      "[[[ 0 25 75  0 75]\n",
      "  [75 25 25 25 75]\n",
      "  [25 25 25 75 75]]\n",
      "\n",
      " [[75 25 25 25 75]\n",
      "  [75 75 25 75 75]\n",
      "  [75 75 25 25 75]]]\n"
     ]
    }
   ],
   "source": [
    "# your code here\n",
    "print(d)\n",
    "print(f)"
   ]
  },
  {
   "cell_type": "markdown",
   "metadata": {},
   "source": [
    "#### 18. Bonus question: instead of using numbers (i.e. 0, 25, 50, 75, and 100), use string values  (\"A\", \"B\", \"C\", \"D\", and \"E\") to label the array elements. For the example above, the expected result is:\n",
    "\n",
    "```python\n",
    "[[[ 'D',  'D',  'D',  'B',  'D'],\n",
    "[ 'D',  'D',  'B',  'B',  'B'],\n",
    "[ 'D',  'B',  'D',  'D',  'D']],\n",
    "[[ 'B',  'B',  'B',  'B',  'E'],\n",
    "[ 'D',  'D',  'D',  'D',  'D'],\n",
    "[ 'B',  'D',   'A',  'D', 'D']]]\n",
    "```\n",
    "**Note**: you don't have to use Numpy in this question."
   ]
  },
  {
   "cell_type": "code",
   "execution_count": null,
   "metadata": {},
   "outputs": [],
   "source": [
    "# your code here"
   ]
  }
 ],
 "metadata": {
  "kernelspec": {
   "display_name": "Python 3",
   "language": "python",
   "name": "python3"
  },
  "language_info": {
   "codemirror_mode": {
    "name": "ipython",
    "version": 3
   },
   "file_extension": ".py",
   "mimetype": "text/x-python",
   "name": "python",
   "nbconvert_exporter": "python",
   "pygments_lexer": "ipython3",
   "version": "3.8.3"
  }
 },
 "nbformat": 4,
 "nbformat_minor": 4
}
